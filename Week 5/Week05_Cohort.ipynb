{
 "cells": [
  {
   "cell_type": "markdown",
   "metadata": {
    "cellIdentifier": "58vun8bb29vj4xj5pue2ds",
    "deletable": false,
    "editable": false,
    "nbgrader": {
     "grade": false,
     "locked": true,
     "solution": false
    }
   },
   "source": [
    "# Week 5 Problem Set\n",
    "\n",
    "## Cohort"
   ]
  },
  {
   "cell_type": "code",
   "execution_count": 4,
   "metadata": {
    "cellIdentifier": "pr3odhvp2d9jjevpzscot"
   },
   "outputs": [],
   "source": [
    "# %load_ext nb_mypy\n",
    "# %nb_mypy On"
   ]
  },
  {
   "cell_type": "code",
   "execution_count": 5,
   "metadata": {
    "cellIdentifier": "u1qgv3k3eif45blor6c0r",
    "deletable": false,
    "editable": false,
    "nbgrader": {
     "grade": false,
     "locked": true,
     "solution": false
    }
   },
   "outputs": [],
   "source": [
    "from typing import TypeAlias\n",
    "from typing import Optional, Any\n",
    "from __future__ import annotations\n",
    "\n",
    "Number: TypeAlias = int | float"
   ]
  },
  {
   "cell_type": "markdown",
   "metadata": {
    "cellIdentifier": "w1095moaqyfj7uu28e37c",
    "deletable": false,
    "editable": false,
    "nbgrader": {
     "grade": false,
     "locked": true,
     "solution": false
    }
   },
   "source": [
    "**CS1.** Implement a `RacingGame` class that plays car racing using Python `random` module to simulate car's acceleration. The class has the following attribute(s):\n",
    "- `car_list` which is a dictionary containing all the `RacingCar` objects where the keys are the racer's name.\n",
    "\n",
    "The class has the following properties:\n",
    "- `winners` which list the winners from the first to the last. If there is no winner, it should return `None`.\n",
    "\n",
    "Upon instantiation, it should initalize the game with some **random seed**. This is to ensure that the behaviour can be predicted.\n",
    "\n",
    "It has the following methods:\n",
    "- `add_car(name, max_speed)` which creates a new `RacingCar` object and add it into the `car_list`. \n",
    "- `start(finish_distance)` which uses the `random` module to assign different initial speeds (0 to 50) to each of the racing car and set the same finish distance for all cars.\n",
    "- `play(finish)` which contains the main loop of the game that calls the `RacingCar`'s method `race()` until all cars reach the finish line. It takes in an argument for the finish distance.\n",
    "\n"
   ]
  },
  {
   "cell_type": "code",
   "execution_count": 6,
   "metadata": {
    "cellIdentifier": "op7ltxjxar2wn5orz25yd"
   },
   "outputs": [],
   "source": [
    "class RacingCar:\n",
    "    \n",
    "    def __init__(self, name: str, max_speed: int) -> None:\n",
    "        self.racer: str = name\n",
    "        self.max_speed: int = max_speed\n",
    "        self.finish: int = -1\n",
    "        self.pos = 0\n",
    "    \n",
    "    @property\n",
    "    def racer(self) -> str:\n",
    "        return self._racer\n",
    "    \n",
    "    @racer.setter\n",
    "    def racer(self, name: str) -> None:\n",
    "        if isinstance(name, str) and name!= \"\":\n",
    "            self._racer = name\n",
    "            \n",
    "    @property\n",
    "    def speed(self) -> int:\n",
    "        return self._max_speed\n",
    "    \n",
    "    @speed.setter\n",
    "    def speed(self, val: int) -> None:\n",
    "        if val >= 0 and val <= self.max_speed:\n",
    "            self._max_speed = val\n",
    "    \n",
    "    @property\n",
    "    def pos(self) -> int:\n",
    "        return self._pos\n",
    "    \n",
    "    @pos.setter\n",
    "    def pos(self, val: int) -> None:\n",
    "        if val >=0:\n",
    "            self._pos = val\n",
    "            \n",
    "    @property\n",
    "    def is_finished(self) -> bool:\n",
    "        if self.pos >= self.finish > 0:\n",
    "            return True\n",
    "        else: \n",
    "            return False\n",
    "            \n",
    "    def start(self, init_speed: int, finish_dist: int) -> None:\n",
    "        if self.speed <= self.max_speed:\n",
    "            self.speed = init_speed\n",
    "        if finish_dist >= 0:\n",
    "            self._pos = 0\n",
    "            self.finish = finish_dist\n",
    "    \n",
    "    def race(self, acc: int) -> None:\n",
    "        new_speed = self.speed + acc\n",
    "        self.speed = new_speed\n",
    "        self.pos = self._pos + new_speed\n",
    "        \n",
    "    def __str__(self) -> str:\n",
    "        return f\"Racing Car {self.racer} at position: {self.pos}, with speed: {self.speed}.\"\n",
    "    \n",
    "            \n",
    "    "
   ]
  },
  {
   "cell_type": "code",
   "execution_count": 7,
   "metadata": {
    "cellIdentifier": "mfaio89rmc5op7e43l3yq"
   },
   "outputs": [],
   "source": [
    "import random\n",
    "\n",
    "class RacingGame:\n",
    "    \n",
    "    def __init__(self, seed: Number) -> None:\n",
    "        self.car_list: dict[str, RacingCar] = {}\n",
    "        self._winners: list[str] = []\n",
    "        random.seed(seed)\n",
    "        \n",
    "    @property\n",
    "    def winners(self) -> Optional[list[str]]:\n",
    "        if len(self._winners) != 0:\n",
    "            return self._winners\n",
    "        else:\n",
    "            return None\n",
    "         \n",
    "    def add_car(self, name: str, speed: int) -> None:\n",
    "        self.car_list[name] = RacingCar(name,speed) \n",
    "        \n",
    "    def start(self, finish: int) -> None:\n",
    "        for keys in self.car_list.keys():\n",
    "            self.car_list[keys].speed = random.randint(0,50)\n",
    "            self.car_list[keys].finish = finish\n",
    "    \n",
    "    def play(self, finish: int) -> None:\n",
    "        self.start(finish)\n",
    "        finished_car: int = 0\n",
    "        while True:\n",
    "            for racer, car in self.car_list.items():\n",
    "                if not car.is_finished:\n",
    "                    acc: int = random.randint(-10, 20)\n",
    "                    car.race(acc)\n",
    "                    # you can comment out the line below to check the output\n",
    "                    # print(car)\n",
    "                    if car.is_finished:\n",
    "                        self._winners.append(racer)\n",
    "                        finished_car +=1\n",
    "            if finished_car == len(self.car_list):\n",
    "                break\n",
    "            "
   ]
  },
  {
   "cell_type": "code",
   "execution_count": 8,
   "metadata": {
    "cellIdentifier": "k7x3uzzkl7ea1tgkgxz7q",
    "deletable": false,
    "editable": false,
    "nbgrader": {
     "grade": true,
     "grade_id": "cs11",
     "locked": true,
     "points": "1",
     "solution": false
    }
   },
   "outputs": [],
   "source": [
    "game: RacingGame = RacingGame(100)\n",
    "assert game.car_list == {}\n",
    "assert game.winners == None\n",
    "\n",
    "game.add_car(\"Hamilton\", 250)\n",
    "assert len(game.car_list) == 1\n",
    "assert game.car_list[\"Hamilton\"].racer == \"Hamilton\"\n",
    "\n",
    "game.add_car(\"Vettel\", 200)\n",
    "assert len(game.car_list) == 2\n",
    "assert game.car_list[\"Vettel\"].racer == \"Vettel\"\n",
    "\n",
    "game.start(200)\n",
    "assert [ car.pos for car in game.car_list.values()] == [0, 0]\n",
    "assert [ car.speed for car in game.car_list.values()] == [9, 29]\n",
    "assert [ car.finish for car in game.car_list.values()] == [200, 200]\n",
    "\n",
    "game.play(200)\n",
    "assert game.winners == [\"Vettel\", \"Hamilton\"]\n",
    "\n",
    "game: RacingGame = RacingGame(200)\n",
    "game.add_car(\"Hamilton\", 250)\n",
    "game.add_car(\"Vettel\", 200)\n",
    "game.play(200)\n",
    "assert game.winners == [\"Hamilton\", \"Vettel\"]\n",
    "\n",
    "###\n",
    "### AUTOGRADER TEST - DO NOT REMOVE\n",
    "###\n"
   ]
  },
  {
   "cell_type": "code",
   "execution_count": 9,
   "metadata": {
    "cellIdentifier": "eod8mzpsjipk5pkzfb28n",
    "deletable": false,
    "editable": false,
    "nbgrader": {
     "grade": true,
     "grade_id": "cs12",
     "locked": true,
     "points": "1",
     "solution": false
    }
   },
   "outputs": [],
   "source": [
    "###\n",
    "### AUTOGRADER TEST - DO NOT REMOVE\n",
    "###\n",
    "\n",
    "###\n",
    "### AUTOGRADER TEST - DO NOT REMOVE\n",
    "###\n"
   ]
  },
  {
   "cell_type": "markdown",
   "metadata": {
    "cellIdentifier": "8d70c14vmsfn979t9ork3d",
    "deletable": false,
    "editable": false,
    "nbgrader": {
     "grade": false,
     "locked": true,
     "solution": false
    }
   },
   "source": [
    "**CS2.** Write a class called `EvaluatePostfix` that evaluates postfix notation implemented using Stack data structure. Postfix notation is a way of writing expressions without parenthesis. For example, the expression `(1+2)*3` would be written as `1 2 + 3 *`. The class `EvaluatePostfix` has the following methods:\n",
    "- `input(inp)`: which pushes the input one at a time. For example, to create a postfix notation `1 2 + 3 *`, we can call this method repetitively, e.g. `e.input('1'); e.input('2'); e.input('+'); e.input('3'); e.input('*')`. Notice that the input is of String data type. \n",
    "- `evaluate()`: which returns the output of the expression.\n",
    "\n",
    "Postfix notation is evaluated using a Stack. The input streams from `input()` are stored in a Queue, which we will implement using Python's List. Note: If you have finished your homework on Queue, you can replace this part with your Queue. \n",
    "\n",
    "If the output of the Queue is a number, the item is pushed onto the stack. If it is an operator, we will apply the operator to the top two items in the stacks, pushing the result back onto the stack. "
   ]
  },
  {
   "cell_type": "code",
   "execution_count": 10,
   "metadata": {
    "cellIdentifier": "u4o8u75w2pmg80r0dueb2p"
   },
   "outputs": [],
   "source": [
    "class Stack:\n",
    "    def __init__(self) -> None:\n",
    "        self.__items: list[Any] = []\n",
    "\n",
    "    def push(self, item:Any):\n",
    "        self.__items.append(item)\n",
    "\n",
    "    def pop(self) -> Any:\n",
    "        if len(self.__items) != 0:\n",
    "            val = self.__items[-1]\n",
    "            del self.__items[-1]\n",
    "            return val\n",
    "        else:\n",
    "            print(\"nonetype\")\n",
    "            return None\n",
    "\n",
    "    def peek(self) -> Any:\n",
    "        if len(self.__items) != 0:\n",
    "            return self.__items[-1]\n",
    "        else:\n",
    "            return None\n",
    "\n",
    "    @property\n",
    "    def is_empty(self) -> bool:\n",
    "        if len(self.__items) > 0:\n",
    "            return False\n",
    "        else:\n",
    "            return True\n",
    "\n",
    "    @property\n",
    "    def size(self):\n",
    "        return len(self.__items)\n"
   ]
  },
  {
   "cell_type": "code",
   "execution_count": 11,
   "metadata": {
    "cellIdentifier": "bnqo78ix2jvun5w9t77279"
   },
   "outputs": [],
   "source": [
    "class EvaluatePostfix:\n",
    "\n",
    "    operands: str = \"0123456789\"\n",
    "    operators: str = \"+-*/\"\n",
    "\n",
    "    def __init__(self) -> None:\n",
    "        self.expression: list[str] = []\n",
    "        self.stack: Stack = Stack()\n",
    "\n",
    "    def input(self, item: str) -> None:\n",
    "        if item in self.operands or item in self.operators:\n",
    "            self.expression.append(item)\n",
    "\n",
    "    def evaluate(self) -> Number:\n",
    "        for i in range(len(self.expression)):\n",
    "            if self.expression[i] in self.operands:\n",
    "                self.stack.push(self.expression[i])\n",
    "            else:\n",
    "                rightly = self.stack.pop()\n",
    "                statement = str(self.stack.pop())+ self.expression[i] +str(rightly)\n",
    "                self.stack.push(eval(statement))\n",
    "        return self.stack.peek()\n",
    "                "
   ]
  },
  {
   "cell_type": "code",
   "execution_count": 12,
   "metadata": {
    "cellIdentifier": "sx66rc00fspr3ctlfohpgs",
    "deletable": false,
    "editable": false,
    "nbgrader": {
     "grade": true,
     "grade_id": "cs21",
     "locked": true,
     "points": "1",
     "solution": false
    }
   },
   "outputs": [],
   "source": [
    "pe: EvaluatePostfix = EvaluatePostfix()\n",
    "pe.input(\"2\")\n",
    "pe.input(\"3\")\n",
    "pe.input(\"+\")\n",
    "assert pe.evaluate()== 5\n",
    "\n",
    "pe.input(\"2\")\n",
    "pe.input(\"3\")\n",
    "pe.input(\"+\")\n",
    "pe.input(\"6\")\n",
    "pe.input(\"-\")\n",
    "assert pe.evaluate()== -1\n",
    "\n",
    "###\n",
    "### AUTOGRADER TEST - DO NOT REMOVE\n",
    "###\n"
   ]
  },
  {
   "cell_type": "code",
   "execution_count": 13,
   "metadata": {
    "cellIdentifier": "7vy27ku0d8tn8jj8ep028",
    "deletable": false,
    "editable": false,
    "nbgrader": {
     "grade": true,
     "grade_id": "cs22",
     "locked": true,
     "points": "1",
     "solution": false
    }
   },
   "outputs": [],
   "source": [
    "###\n",
    "### AUTOGRADER TEST - DO NOT REMOVE\n",
    "###\n",
    "\n",
    "###\n",
    "### AUTOGRADER TEST - DO NOT REMOVE\n",
    "###\n"
   ]
  },
  {
   "cell_type": "markdown",
   "metadata": {
    "cellIdentifier": "7lx397u66ldp60f3hdb95h",
    "deletable": false,
    "editable": false,
    "nbgrader": {
     "grade": false,
     "locked": true,
     "solution": false
    }
   },
   "source": [
    "**CS3.** *Inheritance:* Create a class called `MixedFraction` as a subclass of `Fraction`. A mixed fraction is a fraction that comprises of a whole number, a numerator and a denominator, e.g. `1 2/3` which is the same as `5/3`. The class has the following way of initializing its properties:\n",
    "- `__init__(top, bot, whole)`: which takes in three Integers, the whole number, the numerator, and the denominator, e.g. `whole=1`, `top=2`, `bot=3`. The argument `whole` by default is `0`.  You can also specify `top` to be greater than `bot`. \n",
    "\n",
    "The class only has two properties:\n",
    "- `num`: which is the numerator and can be greater than denominator.\n",
    "- `den`: which is the denominator and must be a non-zero number.\n",
    "\n",
    "The class should also have the following methods:\n",
    "- `get_three_numbers()`: which is used to calculate the whole number, numerator and the denominator from a given numerator and denominator. The stored properties are `num` and `den` as in `Fraction` class. This function returns three Integers as a tuple, i.e. `(top, bot, whole)`.\n",
    "\n",
    "The class should also override the `__str__()` method in this manner:\n",
    "- `num/dem` if the numerator is smaller than the denominator. For example, `2/3`. \n",
    "- `whole top/bot` if the numerator is greater than the denominator. For example, `1 2/3`."
   ]
  },
  {
   "cell_type": "code",
   "execution_count": 14,
   "metadata": {
    "cellIdentifier": "rq0twf36iysurzsqmt8cg"
   },
   "outputs": [],
   "source": [
    "def gcd(a: int, b: int) -> int:\n",
    "    if b == 0:\n",
    "        return a\n",
    "    else:\n",
    "        return gcd(b, a % b)\n",
    "\n",
    "\n",
    "class Fraction:\n",
    "    def __init__(self, num: int, den: int) -> None:\n",
    "        self.num = num\n",
    "        self.den = den\n",
    "        pass\n",
    "    \n",
    "    @property\n",
    "    def num(self) -> int:\n",
    "        return self._num\n",
    "    \n",
    "    @num.setter\n",
    "    def num(self, val: int) -> None:\n",
    "        self._num = int(val)\n",
    "    \n",
    "    @property\n",
    "    def den(self) -> int:\n",
    "        return self._den\n",
    "        pass\n",
    "    \n",
    "    @den.setter\n",
    "    def den(self, val: int) -> None:\n",
    "        if val == 0:\n",
    "            self._den = 1\n",
    "        else:\n",
    "            self._den = val\n",
    "    \n",
    "    def __str__(self) -> str:\n",
    "        return f\"{self._num}/{self._den}\"\n",
    "    \n",
    "    def simplify(self) -> Fraction:\n",
    "        x = gcd(self._num, self._den)\n",
    "        a , b = self._num/x , self._den/x\n",
    "        return Fraction(int(a),int(b))\n",
    "        \n",
    "        \n",
    "    \n",
    "    def __add__(self, other) -> Fraction:\n",
    "        x = self._den * other._den\n",
    "        y = (other._num *self._den) + (self._num * other._den)\n",
    "        return Fraction(y, x).simplify()\n",
    "\n",
    "    \n",
    "    def __sub__(self, other) -> Fraction:\n",
    "        x = self._den * other._den\n",
    "        y = (self._num * other._den) - (other._num *self._den) \n",
    "        return Fraction(y, x).simplify()\n",
    "    \n",
    "    def __mul__(self, other) -> Fraction:\n",
    "        x = self._den * other._den\n",
    "        y = (self._num * other._num)\n",
    "        return Fraction(y, x).simplify()\n",
    "    \n",
    "    def __eq__(self, other) -> bool:\n",
    "        if isinstance(other, Fraction):\n",
    "            return self._num * other._den == self.den * other.num\n",
    "        return False\n",
    "    \n",
    "    def __lt__(self, other) -> bool:\n",
    "        return self._den * other._num > self._num * other._den\n",
    "    \n",
    "    def __le__(self, other) -> bool:\n",
    "        return self._den * other._num >= self._num * other._den\n",
    "    \n",
    "    def __gt__(self, other) -> bool:\n",
    "        return self._den * other._num < self._num * other._den\n",
    "    \n",
    "    def __ge__(self, other) -> bool:\n",
    "        return self._den * other._num <= self._num * other._den\n",
    "    \n"
   ]
  },
  {
   "cell_type": "code",
   "execution_count": 15,
   "metadata": {
    "cellIdentifier": "c522wysi3wnceh505fupy5"
   },
   "outputs": [],
   "source": [
    "class MixedFraction(Fraction):\n",
    "    def __init__(self, top: int, bot: int, whole: int=0) -> None:\n",
    "        num: Optional[int] = None\n",
    "        num = whole * bot +top\n",
    "        super().__init__(num, bot)\n",
    "\n",
    "    def get_three_numbers(self) -> tuple[int, int, int]:\n",
    "        whole: Optional[int] = None\n",
    "        top: Optional[int] = None\n",
    "        bot: Optional[int] = None\n",
    "        \n",
    "        whole = self.num //self.den\n",
    "        top = self.num % self.den\n",
    "        bot = self.den\n",
    "        \n",
    "        return (top, bot, whole)\n",
    "\n",
    "    def __str__(self) -> str:\n",
    "        (top,bot, whole) = self.get_three_numbers()\n",
    "        if whole == 0:\n",
    "            return super().__str__()\n",
    "        else:\n",
    "            return f\"{whole:d} {top:d}/{bot:d}\""
   ]
  },
  {
   "cell_type": "code",
   "execution_count": 16,
   "metadata": {
    "cellIdentifier": "5u7amjvayrgzma4cv6bsx",
    "deletable": false,
    "editable": false,
    "nbgrader": {
     "grade": true,
     "grade_id": "cs31",
     "locked": true,
     "points": "1",
     "solution": false
    }
   },
   "outputs": [],
   "source": [
    "mf1: MixedFraction = MixedFraction(5, 3)\n",
    "assert mf1.num == 5 and mf1.den == 3\n",
    "assert mf1.get_three_numbers() == (2, 3, 1)\n",
    "mf2: MixedFraction = MixedFraction(2, 3, 1)\n",
    "assert mf2.num == 5 and mf2.den == 3\n",
    "\n",
    "result: Fraction = mf1 + mf2\n",
    "assert result.num == 10 and result.den == 3\n",
    "\n",
    "assert mf1 == mf2\n",
    "\n",
    "###\n",
    "### AUTOGRADER TEST - DO NOT REMOVE\n",
    "###\n"
   ]
  },
  {
   "cell_type": "code",
   "execution_count": 17,
   "metadata": {
    "cellIdentifier": "xbkha6pop8i06rcnng2ovrs",
    "deletable": false,
    "editable": false,
    "nbgrader": {
     "grade": true,
     "grade_id": "cs32",
     "locked": true,
     "points": "1",
     "solution": false
    }
   },
   "outputs": [],
   "source": [
    "mf1: MixedFraction = MixedFraction(5, 3)\n",
    "assert mf1.num == 5 and mf1.den == 3\n",
    "assert mf1.get_three_numbers() == (2, 3, 1)\n",
    "mf2: MixedFraction = MixedFraction(2, 3, 1)\n",
    "assert mf2.num == 5 and mf2.den == 3\n",
    "\n",
    "result: Fraction = mf1 + mf2\n",
    "assert result.num == 10 and result.den == 3\n",
    "\n",
    "result: Fraction = mf1 * mf2\n",
    "assert result.num == 25 and result.den == 9\n",
    "\n",
    "mf3: MixedFraction = MixedFraction(1, 2, 1)\n",
    "result: Fraction = mf1 - mf3\n",
    "assert result.num == 1 and result.den == 6\n",
    "\n",
    "assert str(mf1) == \"1 2/3\"\n",
    "\n",
    "###\n",
    "### AUTOGRADER TEST - DO NOT REMOVE\n",
    "###\n"
   ]
  },
  {
   "cell_type": "code",
   "execution_count": 18,
   "metadata": {
    "cellIdentifier": "vmcro66efq8c3sdnhtpb4",
    "deletable": false,
    "editable": false,
    "nbgrader": {
     "grade": true,
     "grade_id": "cs33",
     "locked": true,
     "points": "1",
     "solution": false
    }
   },
   "outputs": [],
   "source": [
    "###\n",
    "### AUTOGRADER TEST - DO NOT REMOVE\n",
    "###\n",
    "\n",
    "###\n",
    "### AUTOGRADER TEST - DO NOT REMOVE\n",
    "###\n"
   ]
  },
  {
   "cell_type": "markdown",
   "metadata": {
    "cellIdentifier": "w0k58nmfs34b9ac59ykfk",
    "deletable": false,
    "editable": false,
    "nbgrader": {
     "grade": false,
     "locked": true,
     "solution": false
    }
   },
   "source": [
    "**CS4.** Create a class `Vertex` to represent a vertex in a graph. The class `Vertex` has the following attributes:\n",
    "- `id_`: to identify each vertex. This is of String data type.\n",
    "- `neighbours`: which is a Dictionary where the keys are the neighbouring `Vertex` object instances that are connected to the current Vertex and the values are the weights of the edge between the current Vertex and the neighbouring vertices. \n",
    "\n",
    "The class should also have the following methods:\n",
    "\n",
    "- `__init__(self, id_)`: which is used to initialized the attribute `id_`. By default, `id_` is set to an empty String . The attribute `neighbours` is always set to an empty dictionary.\n",
    "- `add_neighbour(self, nbr_vertex, weight)`: which adds a neighbouring Vertex to the current Vertex. The second argument provides the weight of the edge between the current Vertex and the newly added neighbouring Vertex. By default, `weight` is `0`.\n",
    "- `get_neigbours(self)`: which returns all the Vertices connected to the current Vertex as a list. The elements of the output list are of `Vertex` object instances.\n",
    "- `get_weight(self, neighbour)`: which returns the weight of the requested neighbour. It should return `None` if the requested neighbour is not found.\n",
    "- `__eq__(self, other)`: which returns true if the id of the current vertex object is the same as the `other` vertex's id. \n",
    "- `__lt__(self, other)`: which returns true if the id of the current vertex object is less than the `other` vertex's id.\n",
    "- `__hash__(self)`: which calls the `hash()` function on `id_` and returns it. This allows the object to be a dictionary key. This is provided for you.\n",
    "- `__str__(self)`: This method should return the id of the current vertex and a list of `id_`s of the neighbouring vertices, like `Vertex 2 is connected to: 3, 4, 5` ."
   ]
  },
  {
   "cell_type": "code",
   "execution_count": 19,
   "metadata": {
    "cellIdentifier": "nr6euw7pv8ekftodicnol"
   },
   "outputs": [
    {
     "name": "stdout",
     "output_type": "stream",
     "text": [
      "prin 3\n",
      "Vertex 1 is connected to: 2, 3\n"
     ]
    }
   ],
   "source": [
    "class Vertex:\n",
    "    def __init__(self, id_: str=\"\") -> None:\n",
    "        self.id_: str = id_\n",
    "        self.neighbours: dict[Vertex, Number] = {}\n",
    "    \n",
    "    def add_neighbour(self, nbr_vertex: Vertex, weight: Number=0) -> None:\n",
    "        self.neighbours[nbr_vertex] = weight\n",
    "    \n",
    "    def get_neighbours(self) -> list[Vertex]:\n",
    "        return list(self.neighbours.keys())\n",
    "    \n",
    "    def get_weight(self, neighbour: Vertex) -> Optional[Number]:\n",
    "        if neighbour in self.neighbours:\n",
    "            return self.neighbours[neighbour]\n",
    "        else: return None\n",
    "    \n",
    "    def __eq__(self, other) -> bool:\n",
    "        return self.id_ == other.id_\n",
    "    \n",
    "    def __lt__(self, other) -> bool:\n",
    "        return self.id_ < other.id_\n",
    "    \n",
    "    def __hash__(self) -> int:\n",
    "        return hash(self.id_)\n",
    "    \n",
    "    def __str__(self) -> str:\n",
    "        x = []\n",
    "        for i in range(len(self.neighbours)):\n",
    "            x.append(self.get_neighbours()[i].id_)  \n",
    "        return f'Vertex {self.id_} is connected to: {\", \".join(x)}'\n",
    "    \n",
    "v1: Vertex = Vertex(\"1\")\n",
    "v2: Vertex = Vertex(\"2\")\n",
    "v1.add_neighbour(v2)\n",
    "v3: Vertex = Vertex(\"3\")\n",
    "v1.add_neighbour(v3, 3)\n",
    "\n",
    "v4: Vertex = Vertex(\"4\")\n",
    "print(\"prin\", v1.get_neighbours()[1].id_)\n",
    "print(str(v1)) "
   ]
  },
  {
   "cell_type": "code",
   "execution_count": 20,
   "metadata": {
    "cellIdentifier": "0lfr123w7ycng5qy7oc1noe",
    "deletable": false,
    "editable": false,
    "nbgrader": {
     "grade": true,
     "grade_id": "cs41",
     "locked": true,
     "points": "1",
     "solution": false
    }
   },
   "outputs": [],
   "source": [
    "v1: Vertex = Vertex(\"1\")\n",
    "assert v1.id_ == \"1\" and len(v1.neighbours) == 0\n",
    "v2: Vertex = Vertex(\"2\")\n",
    "v1.add_neighbour(v2)\n",
    "assert v1.get_neighbours()[0].id_ == \"2\" and v1.neighbours[v1.get_neighbours()[0]] == 0\n",
    "v3: Vertex = Vertex(\"3\")\n",
    "v1.add_neighbour(v3, 3)\n",
    "assert v1.get_weight(v3) == 3\n",
    "v4: Vertex = Vertex(\"4\")\n",
    "assert v1.get_weight(v4) == None\n",
    "assert v1 < v2\n",
    "assert v1 != v2\n",
    "assert str(v1) == \"Vertex 1 is connected to: 2, 3\"\n",
    "\n"
   ]
  },
  {
   "cell_type": "code",
   "execution_count": 21,
   "metadata": {
    "cellIdentifier": "ugmli6jxpxn7uwhgqzbf",
    "deletable": false,
    "editable": false,
    "nbgrader": {
     "grade": true,
     "grade_id": "cs42",
     "locked": true,
     "points": "1",
     "solution": false
    }
   },
   "outputs": [],
   "source": [
    "###\n",
    "### AUTOGRADER TEST - DO NOT REMOVE\n",
    "###\n"
   ]
  },
  {
   "cell_type": "markdown",
   "metadata": {
    "cellIdentifier": "pyjnk64ucahmqklb5hvrsl",
    "deletable": false,
    "editable": false,
    "nbgrader": {
     "grade": false,
     "locked": true,
     "solution": false
    }
   },
   "source": [
    "**CS5.** Create a class `Graph` to represent a Graph. The class has the following attribute:\n",
    "- `vertices`: which is a *dictionary* of Vertices. The keys are the `id`s of the Vertices and the values are `Vertex` object instances.\n",
    "\n",
    "The class has the following property:\n",
    "- `num_vertices`: which is a *computed* property that returns the number of vertices in the graph.\n",
    "\n",
    "The class also has the following methods:\n",
    "- `__init__(self)`: which initializes the graph with an empty dictionary.\n",
    "- `_create_vertex(self, id_)`: which creates a new `Vertex` object with a given `id_`. This method is never called directly and is only used by `add_vertex(id_)`.\n",
    "- `add_vertex(self, id_)`: which creates a new `Vertex` object, adding it into the dictionary `vertices`. The argument `id_` is a String. This method should call `_create_vertex(id_)`.\n",
    "- `get_vertex(self, id_)`: which returns the `Vertex` object instance of the requested `id_`. The method should return `None` if the requested `id_` cannot be found. The argument `id_` is a String.\n",
    "- `add_edge(start_v, end_v)`: which creates an edge from one Vertex to another Vertex. The arguments are the `id_`s of the two vertices and are both Strings. If any of the starting or ending vertices is not in the graph, the function should call `add_vertex()` to create these vertices before creating an edge between the two vertices. \n",
    "- `get_neighbours(self, id_)`: which returns a list of `id_`s all the neighbouring vertices (of the specified Vertex `id_`). It should return an empty list `[]` if `id_` cannot be found. The argument `id_` is a String and the elements of the output list are of `str` data type. \n",
    "- `__contains__(self, id_)`: which returns either `True` or `False` depending on whether the graph contains the specified Vertex's `id_`. The argument `id_` is a String."
   ]
  },
  {
   "cell_type": "code",
   "execution_count": 22,
   "metadata": {
    "cellIdentifier": "dtvh43b7i3vn5ywbh322f"
   },
   "outputs": [],
   "source": [
    "class Graph:\n",
    "    def __init__(self) -> None:\n",
    "        self.vertices: dict[str, Vertex] = {} #dictionary containing the key and vertex object respectively\n",
    "        \n",
    "    def _create_vertex(self, id_: str) -> Vertex:\n",
    "        #which creates a new Vertex object with a given id_. This method is never called directly and is only used by add_vertex(id_).\n",
    "        return Vertex(id_)\n",
    "    \n",
    "    def add_vertex(self, id_: str) -> None:\n",
    "        #which creates a new Vertex object, adding it into the dictionary vertices. The argument id_ is a String. This method should call _create_vertex(id_).\n",
    "        self.vertices.update({id_: self._create_vertex(id_)})\n",
    "    \n",
    "    def get_vertex(self, id_: str) -> Optional[Vertex]:\n",
    "        if id_ in self.vertices.keys():\n",
    "            return self.vertices[id_]\n",
    "        return None\n",
    "    \n",
    "    def add_edge(self, start_v: str, end_v: str, weight: Number=0) -> None:\n",
    "        if start_v not in self.vertices.keys():\n",
    "            self.add_vertex(start_v)\n",
    "        if end_v not in self.vertices.keys():\n",
    "            self.add_vertex(end_v)\n",
    "        self.vertices[start_v].add_neighbour(self.get_vertex(end_v), weight)\n",
    "            \n",
    "    def add_edge_undirected(self, start_v: str, end_v: str, weight: Number=0) -> None:\n",
    "        if start_v not in self.vertices:\n",
    "            self._create_vertex(start_v)\n",
    "        if end_v not in self.vertices:\n",
    "            self._create_vertex(end_v)\n",
    "            \n",
    "        self.vertices[start_v].add_neighbour(self.vertices[end_v],weight)\n",
    "        self.vertices[end_v].add_neighbour(self.vertices[start_v],weight)\n",
    "        \n",
    "    def get_neighbours(self, id_: str) -> list[str]:\n",
    "        lister = self.vertices[id_].get_neighbours()\n",
    "        attr = [o.id_ for o in lister]\n",
    "        return sorted(attr)\n",
    "    \n",
    "    def __contains__(self, val: str) -> bool:\n",
    "        return val in self.vertices.keys()\n",
    "    \n",
    "    def __iter__(self):\n",
    "        for k,v in self.vertices.items():\n",
    "            yield v \n",
    "        \n",
    "    @property\n",
    "    def num_vertices(self):\n",
    "        return len(self.vertices)\n"
   ]
  },
  {
   "cell_type": "code",
   "execution_count": 23,
   "metadata": {
    "cellIdentifier": "gw84zyd9fih5iacw6ba2g",
    "deletable": false,
    "editable": false,
    "nbgrader": {
     "grade": true,
     "grade_id": "cs51",
     "locked": true,
     "points": "1",
     "solution": false
    }
   },
   "outputs": [],
   "source": [
    "g: Graph = Graph()\n",
    "assert g.vertices == {} and g.num_vertices == 0\n",
    "g.add_vertex(\"A\")\n",
    "g.add_vertex(\"B\")\n",
    "g.add_vertex(\"C\")\n",
    "g.add_vertex(\"D\")\n",
    "g.add_vertex(\"E\")\n",
    "g.add_vertex(\"F\")\n",
    "assert g.num_vertices == 6\n",
    "assert \"A\" in g\n",
    "assert \"B\" in g\n",
    "assert \"C\" in g\n",
    "assert \"D\" in g\n",
    "assert \"E\" in g\n",
    "assert \"F\" in g\n",
    "g.add_edge(\"A\", \"B\")\n",
    "g.add_edge(\"A\", \"C\")\n",
    "g.add_edge(\"B\", \"C\")\n",
    "g.add_edge(\"B\", \"D\")\n",
    "g.add_edge(\"C\", \"D\")\n",
    "g.add_edge(\"D\", \"C\")\n",
    "g.add_edge(\"E\", \"F\")\n",
    "g.add_edge(\"F\", \"C\")\n",
    "assert sorted(g.get_neighbours(\"A\")) == [\"B\", \"C\"]\n",
    "assert sorted(g.get_neighbours(\"B\")) == [\"C\", \"D\"]\n",
    "assert sorted(g.get_neighbours(\"C\")) == [\"D\"]\n",
    "assert [v.id_ for v in g] == [\"A\", \"B\", \"C\", \"D\", \"E\", \"F\"]\n",
    "\n",
    "###\n",
    "### AUTOGRADER TEST - DO NOT REMOVE\n",
    "###\n"
   ]
  },
  {
   "cell_type": "code",
   "execution_count": 24,
   "metadata": {
    "cellIdentifier": "bw8ll7nautgi694jqc19b",
    "deletable": false,
    "editable": false,
    "nbgrader": {
     "grade": true,
     "grade_id": "cs52",
     "locked": true,
     "points": "1",
     "solution": false
    }
   },
   "outputs": [],
   "source": [
    "###\n",
    "### AUTOGRADER TEST - DO NOT REMOVE\n",
    "###\n",
    "\n",
    "###\n",
    "### AUTOGRADER TEST - DO NOT REMOVE\n",
    "###\n"
   ]
  },
  {
   "cell_type": "markdown",
   "metadata": {
    "cellIdentifier": "1z51c7f01wziam6zyss5v",
    "deletable": false,
    "editable": false,
    "nbgrader": {
     "grade": false,
     "locked": true,
     "solution": false
    }
   },
   "source": [
    "**CS6.** Create a function to generate a `Graph` object instance for the following MRT lines. \n",
    "\n",
    "![](https://data-driven-world.github.io/2023/assets/images/MRT_Train-cd89106da00c927ac48ff3792b34ebc2.png)\n",
    "\n",
    "You will have to use the following methods:\n",
    "- `add_vertex()` to add a new vertex\n",
    "- `add_edge()` to add a new edge between two vertices\n",
    "\n",
    "Note: Since the image shows an undirected graph, you need to add an edge from vertex A to vertex B and another edge from vertex B to vertex A."
   ]
  },
  {
   "cell_type": "code",
   "execution_count": 25,
   "metadata": {
    "cellIdentifier": "pqy8vuytb78qgbty6c8e1n",
    "deletable": false,
    "editable": false,
    "nbgrader": {
     "grade": false,
     "locked": true,
     "solution": false
    }
   },
   "outputs": [],
   "source": [
    "stations = [\"Bedok Reservoir\", \"Tampines West\", \n",
    "            \"Tampines\", \"Simei\", \"Tampines East\", \n",
    "            \"Pasir Ris\", \"Bedok\", \"Tanah Merah\",\n",
    "            \"Upper Changi\", \n",
    "            \"Expo\", \"Changi Airport\"]"
   ]
  },
  {
   "cell_type": "code",
   "execution_count": 26,
   "metadata": {
    "cellIdentifier": "tdfcwgxv3fgk1grhf242i8"
   },
   "outputs": [],
   "source": [
    "def create_sub_lines():\n",
    "    g = Graph()\n",
    "    for i in stations:\n",
    "        g.add_vertex(i)\n",
    "        \n",
    "    \n",
    "\n",
    "    g.add_edge_undirected(\"Bedok Reservoir\",\"Tampines West\")\n",
    "    \n",
    "    g.add_edge_undirected(\"Tampines West\",\"Tampines\")\n",
    "    \n",
    "    g.add_edge_undirected(\"Tampines\",\"Pasir Ris\")\n",
    "    g.add_edge_undirected(\"Tampines\",\"Simei\")\n",
    "    g.add_edge_undirected(\"Tampines\",\"Tampines East\")\n",
    "    \n",
    "    g.add_edge_undirected(\"Simei\",\"Tanah Merah\")\n",
    "    \n",
    "    g.add_edge_undirected(\"Tanah Merah\",\"Bedok\")\n",
    "    \n",
    "    g.add_edge_undirected(\"Tanah Merah\",\"Expo\")\n",
    "    \n",
    "    g.add_edge_undirected(\"Tampines East\",\"Upper Changi\")\n",
    "    g.add_edge_undirected(\"Upper Changi\",\"Expo\")\n",
    "    \n",
    "    g.add_edge_undirected(\"Expo\",\"Changi Airport\")\n",
    "    return g"
   ]
  },
  {
   "cell_type": "code",
   "execution_count": 27,
   "metadata": {
    "cellIdentifier": "l9ath7ketxlx6l5nfi93h",
    "deletable": false,
    "editable": false,
    "nbgrader": {
     "grade": true,
     "grade_id": "cs61",
     "locked": true,
     "points": "1",
     "solution": false
    }
   },
   "outputs": [],
   "source": [
    "output = create_sub_lines()\n",
    "\n",
    "assert output.num_vertices == 11\n",
    "assert sorted(output.vertices) == sorted(stations)\n",
    "assert output.get_neighbours(\"Bedok Reservoir\") == [\"Tampines West\"]\n",
    "assert output.get_neighbours(\"Tampines West\") == [\"Bedok Reservoir\", \"Tampines\"]\n",
    "assert sorted(output.get_neighbours(\"Expo\")) == [\"Changi Airport\", \"Tanah Merah\", \"Upper Changi\"]\n",
    "\n",
    "###\n",
    "### AUTOGRADER TEST - DO NOT REMOVE\n",
    "###\n"
   ]
  },
  {
   "cell_type": "code",
   "execution_count": 28,
   "metadata": {
    "cellIdentifier": "7yjt9drg1gti0q9hw9kt8",
    "deletable": false,
    "editable": false,
    "nbgrader": {
     "grade": true,
     "grade_id": "cs62",
     "locked": true,
     "points": "1",
     "solution": false
    }
   },
   "outputs": [],
   "source": [
    "###\n",
    "### AUTOGRADER TEST - DO NOT REMOVE\n",
    "###\n",
    "\n",
    "###\n",
    "### AUTOGRADER TEST - DO NOT REMOVE\n",
    "###\n"
   ]
  }
 ],
 "metadata": {
  "kernel_id": "7c73634e-17e7-4d96-b642-658a48357237",
  "kernelspec": {
   "display_name": "Python 3",
   "language": "python",
   "name": "python3"
  },
  "language_info": {
   "codemirror_mode": {
    "name": "ipython",
    "version": 3
   },
   "file_extension": ".py",
   "mimetype": "text/x-python",
   "name": "python",
   "nbconvert_exporter": "python",
   "pygments_lexer": "ipython3",
   "version": "3.11.9"
  }
 },
 "nbformat": 4,
 "nbformat_minor": 2
}
